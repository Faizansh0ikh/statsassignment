{
 "cells": [
  {
   "cell_type": "raw",
   "id": "ba720a80-7df7-4ecb-a4df-eaeb36449251",
   "metadata": {},
   "source": [
    "Q1. What are the three measures of central tendency?"
   ]
  },
  {
   "cell_type": "raw",
   "id": "78f3b98f-6ad3-439b-8258-031d71977ae3",
   "metadata": {},
   "source": [
    "mean, median, mode are three measures of central tendency"
   ]
  },
  {
   "cell_type": "raw",
   "id": "60195946-ed6b-4ed3-8564-f458b94485bb",
   "metadata": {},
   "source": [
    "Q2. What is the difference between the mean, median, and mode? How are they used to measure the\n",
    "central tendency of a dataset?"
   ]
  },
  {
   "cell_type": "raw",
   "id": "0fd30f05-3e8e-4688-ad2b-6dd74530f2b2",
   "metadata": {},
   "source": [
    "mean is calculated by summing of all values of a dataset and dividing by the total number of all values, it add all values of a dataset and it is sensitive to extreme values also known as outlier.\n",
    "and mean is effected by the magnitude of value, and also effected by skewed destribution.\n",
    "\n",
    "median is a middle value when dataset is orderd as least to maximum or maximun to least, it useful when dataset have skewed value distribution, extreme values does not effect it.\n",
    "\n",
    "mode is the value that appears frequently in a dataset, mode useful in the case of categorical and discrete values of data set, it help us to identify the most frequent values of a data set.\n",
    "\n",
    "\n",
    "\n",
    "mean commonly use in the case of symmetrical data set where outliers are not present and it gives us the average value of a data set.\n",
    "median is used when data set has a outlier it gives, it provide better result.\n",
    "mode is useful to identify the most frequency of values in data set, perticularly in categorical or discrete data set.\n"
   ]
  },
  {
   "cell_type": "raw",
   "id": "94d37ea5-f015-4945-8b2a-d62e3720b7b2",
   "metadata": {},
   "source": [
    "Q3. Measure the three measures of central tendency for the given height data:\n",
    "[178,177,176,177,178.2,178,175,179,180,175,178.9,176.2,177,172.5,178,176.5]"
   ]
  },
  {
   "cell_type": "code",
   "execution_count": 17,
   "id": "333d1829-f6ea-4252-8d0d-6c6adbbcd364",
   "metadata": {},
   "outputs": [],
   "source": [
    "data = [178,177,176,177,178.2,178,175,179,180,175,178.9,176.2,177,172.5,178,176.5]"
   ]
  },
  {
   "cell_type": "code",
   "execution_count": 18,
   "id": "14e5c8cd-f9fa-49ad-bb9d-4e23b4856f3a",
   "metadata": {},
   "outputs": [
    {
     "data": {
      "text/plain": [
       "177.01875"
      ]
     },
     "execution_count": 18,
     "metadata": {},
     "output_type": "execute_result"
    }
   ],
   "source": [
    "import statistics \n",
    "\n",
    "statistics.mean(data)"
   ]
  },
  {
   "cell_type": "code",
   "execution_count": 19,
   "id": "59cf492f-5f5d-4e0e-b2fe-4cc1c0f7aa89",
   "metadata": {},
   "outputs": [
    {
     "data": {
      "text/plain": [
       "177.0"
      ]
     },
     "execution_count": 19,
     "metadata": {},
     "output_type": "execute_result"
    }
   ],
   "source": [
    "statistics.median(data)"
   ]
  },
  {
   "cell_type": "code",
   "execution_count": 20,
   "id": "377cf304-dfa2-40d1-89b8-bede05eb5671",
   "metadata": {},
   "outputs": [
    {
     "data": {
      "text/plain": [
       "178"
      ]
     },
     "execution_count": 20,
     "metadata": {},
     "output_type": "execute_result"
    }
   ],
   "source": [
    "statistics.mode(data)"
   ]
  },
  {
   "cell_type": "raw",
   "id": "829ac5ca-ef46-4417-94d3-6095ec76d926",
   "metadata": {},
   "source": [
    "Q4. Find the standard deviation for the given data:\n",
    "[178,177,176,177,178.2,178,175,179,180,175,178.9,176.2,177,172.5,178,176.5]"
   ]
  },
  {
   "cell_type": "code",
   "execution_count": 21,
   "id": "d372652d-34e1-410c-8573-61222b6d73b8",
   "metadata": {},
   "outputs": [],
   "source": [
    "data = [178,177,176,177,178.2,178,175,179,180,175,178.9,176.2,177,172.5,178,176.5]"
   ]
  },
  {
   "cell_type": "code",
   "execution_count": 23,
   "id": "7003b4ac-91f2-4a35-9c35-b9159e720333",
   "metadata": {},
   "outputs": [
    {
     "data": {
      "text/plain": [
       "1.8472389305844188"
      ]
     },
     "execution_count": 23,
     "metadata": {},
     "output_type": "execute_result"
    }
   ],
   "source": [
    "statistics.stdev(data)"
   ]
  },
  {
   "cell_type": "markdown",
   "id": "ce02ce7e-cd37-4b8c-a610-03d00d2247fb",
   "metadata": {},
   "source": [
    "Q5. How are measures of dispersion such as range, variance, and standard deviation used to describe\n",
    "the spread of a dataset? Provide an example."
   ]
  },
  {
   "cell_type": "raw",
   "id": "c5475a68-1bab-4c84-b927-3299107985f6",
   "metadata": {},
   "source": [
    "\n",
    "1. **Range**:\n",
    "   The range is the difference between the maximum and minimum values in a dataset. It gives a simple and intuitive measure of how much the data is spread out from the lowest to the highest value.\n",
    "\n",
    "   Example: Consider the heights (in centimeters) of a group of students: [160, 165, 170, 175, 180]. The range is calculated as follows:\n",
    "   \n",
    "   Range = Maximum Value - Minimum Value = 180 - 160 = 20\n",
    "   \n",
    "   The range of the heights is 20 cm, indicating that the tallest student is 20 cm taller than the shortest student.\n",
    "\n",
    "2. **Variance**:\n",
    "   Variance measures the average of the squared differences between each data point and the mean of the dataset. A higher variance indicates greater variability, while a lower variance indicates less variability.\n",
    "\n",
    "   Example: Suppose we have the test scores of a class: [85, 90, 78, 88, 92]. First, calculate the mean (average) of the scores, which is (85 + 90 + 78 + 88 + 92) / 5 = 86.6. Then, calculate the squared differences of each score from the mean: (85 - 86.6)^2, (90 - 86.6)^2, and so on. Add up these squared differences and divide by the total number of data points (5) to get the variance.\n",
    "\n",
    "3. **Standard Deviation**:\n",
    "   The standard deviation is the square root of the variance. It provides a measure of the typical or average distance of data points from the mean. A higher standard deviation indicates greater dispersion, while a lower standard deviation indicates less dispersion.\n",
    "\n",
    "   Example (continuing from the variance example): After calculating the variance, take the square root to get the standard deviation.\n",
    "\n",
    "   Standard Deviation = √Variance\n",
    "\n",
    "   Once you have the standard deviation, it gives you a sense of how much the test scores deviate from the mean in terms of a common unit (standard deviation"
   ]
  },
  {
   "cell_type": "markdown",
   "id": "eba62b91-f65c-45b8-a794-352185241bb2",
   "metadata": {},
   "source": [
    "Q6. What is a Venn diagram?"
   ]
  },
  {
   "cell_type": "markdown",
   "id": "168323ff-dc24-4b60-bd77-3d492110c972",
   "metadata": {},
   "source": [
    "A Venn diagram is a visual representation used to depict the relationships between different sets or groups of items.\n",
    "It consists of overlapping circles (or other shapes) that represent the sets, with the overlapping areas showing the intersections or common elements between the sets.\n",
    "Venn diagrams are a powerful tool for illustrating the concepts of set theory and visualizing the relationships and overlaps between various groups."
   ]
  },
  {
   "cell_type": "markdown",
   "id": "e60b680b-e3a5-417b-8634-6f39515ad864",
   "metadata": {},
   "source": [
    "Q7. For the two given sets A = (2,3,4,5,6,7) & B = (0,2,6,8,10). Find:\n",
    "(i) A B\n",
    "(ii) A ⋃ B"
   ]
  },
  {
   "cell_type": "markdown",
   "id": "df9afc6e-2c96-48a8-81a8-a16b82eec9b1",
   "metadata": {},
   "source": [
    "A intersection  B = (2,6)\n",
    "A ⋃ B = (2,3,4,5,6,7,8,9,10)"
   ]
  },
  {
   "cell_type": "raw",
   "id": "12a39f13-cbc5-4031-8d39-084111a70cd7",
   "metadata": {},
   "source": [
    "Q8. What do you understand about skewness in data?"
   ]
  },
  {
   "cell_type": "markdown",
   "id": "88c2bdd7-f74d-482e-b97f-05bb8764aac8",
   "metadata": {},
   "source": [
    "Skewness in data refers to the asymmetry or lack of symmetry in the distribution of values within a dataset.\n",
    "It indicates the degree to which the data distribution is skewed or distorted towards one tail (left or right) of the distribution.\n",
    "Skewness is an important concept in statistics and data analysis, as it provides insights into the shape of the distribution and\n",
    "how the data points are spread around the central tendency."
   ]
  },
  {
   "cell_type": "raw",
   "id": "565530c3-339c-4af2-883a-1f9bf4b84683",
   "metadata": {},
   "source": [
    "Q9. If a data is right skewed then what will be the position of median with respect to mean?"
   ]
  },
  {
   "cell_type": "raw",
   "id": "d1db8cd1-bc7f-476f-9fd5-bb7423dba2b1",
   "metadata": {},
   "source": [
    "In a right-skewed distribution, the median will typically be located to the right of the mean."
   ]
  },
  {
   "cell_type": "raw",
   "id": "fbf63517-a2da-4d62-b8eb-991fb60840ba",
   "metadata": {},
   "source": [
    "Q10. Explain the difference between covariance and correlation. How are these measures used in\n",
    "statistical analysis?"
   ]
  },
  {
   "cell_type": "raw",
   "id": "24a267b3-da7a-40ee-b1c1-f35d9616c7c7",
   "metadata": {},
   "source": [
    "**Covariance**:\n",
    "- Covariance measures the direction of the linear relationship between two variables.\n",
    "- It can be positive (variables increase together) or negative (one variable increases as the other decreases).\n",
    "- Its value is not standardized and depends on the units of the variables.\n",
    "- Covariance doesn't provide a clear measure of the strength of the relationship.\n",
    "\n",
    "**Correlation**:\n",
    "- Correlation measures both the strength and direction of the linear relationship between two variables.\n",
    "- It ranges from -1 to +1.\n",
    "- A correlation of +1 indicates a perfect positive linear relationship, -1 indicates a perfect negative linear relationship, and 0 indicates no linear relationship.\n",
    "- Correlation is standardized, making it easier to compare relationships between different pairs of variables.\n",
    "\n",
    "**Usage in Statistical Analysis**:\n",
    "- Both covariance and correlation are used to analyze relationships between variables.\n",
    "- Correlation is more widely used because it provides a standardized measure that is independent of units, making it easier to interpret and compare.\n",
    "- Correlation is crucial in fields like finance, data analysis, regression modeling, and machine learning to understand and predict relationships between variables."
   ]
  },
  {
   "cell_type": "raw",
   "id": "b4ba1d58-868f-43c1-9c80-49d80ffcfaf6",
   "metadata": {},
   "source": [
    "Q11. What is the formula for calculating the sample mean? Provide an example calculation for a\n",
    "dataset."
   ]
  },
  {
   "cell_type": "raw",
   "id": "c8b11b09-9ad1-4f76-8f20-31d67415883a",
   "metadata": {},
   "source": [
    "The formula for calculating the sample mean (average) is as follows:\n",
    "\n",
    "Sample Mean (x̄) = (Sum of all values in the sample) / (Number of values in the sample)\n"
   ]
  },
  {
   "cell_type": "code",
   "execution_count": 4,
   "id": "6ff745f9-ccea-4ab1-b153-3b361c890cfb",
   "metadata": {},
   "outputs": [
    {
     "name": "stdout",
     "output_type": "stream",
     "text": [
      "Sample Mean: 18.666666666666668\n"
     ]
    }
   ],
   "source": [
    "\n",
    "\n",
    "# Example dataset\n",
    "dataset = [12, 15, 18, 20, 22, 25]\n",
    "\n",
    "# Calculate the sum of the values in the dataset\n",
    "sum_values = sum(dataset)\n",
    "\n",
    "# Calculate the number of values in the dataset\n",
    "num_values = len(dataset)\n",
    "\n",
    "# Calculate the sample mean\n",
    "sample_mean = sum_values / num_values\n",
    "\n",
    "# Print the result\n",
    "print(\"Sample Mean:\", sample_mean)\n",
    "\n"
   ]
  },
  {
   "cell_type": "markdown",
   "id": "2c5e039b-2f64-4ea7-8da8-0428ac8ecb5e",
   "metadata": {},
   "source": [
    "Q12. For a normal distribution data what is the relationship between its measure of central tendency?"
   ]
  },
  {
   "cell_type": "markdown",
   "id": "a6d6e1da-9e45-434d-a616-d78c3f515823",
   "metadata": {},
   "source": [
    "mean>median>mode"
   ]
  },
  {
   "cell_type": "raw",
   "id": "215b609d-3347-4e32-b000-874f57f1748b",
   "metadata": {},
   "source": [
    "Q13. How is covariance different from correlation?"
   ]
  },
  {
   "cell_type": "raw",
   "id": "4b3df682-494a-4130-88b0-81eab6dbe441",
   "metadata": {},
   "source": [
    "Covariance:\n",
    "\n",
    "Measures the direction (positive/negative) of the linear relationship between two variables.\n",
    "Magnitude depends on the units of the variables.\n",
    "Doesn't provide a clear measure of the strength of the relationship.\n",
    "Range: Can be any real number.\n",
    "Correlation:\n",
    "\n",
    "Measures both the strength and direction of the linear relationship between two variables.\n",
    "Standardized measure, unitless.\n",
    "Provides a clear measure of the strength of the relationship.\n",
    "Range: -1 to +1."
   ]
  },
  {
   "cell_type": "markdown",
   "id": "c022ef5d-1680-45b3-b4db-f746e14f4686",
   "metadata": {},
   "source": [
    "Q14. How do outliers affect measures of central tendency and dispersion? Provide an example."
   ]
  },
  {
   "cell_type": "markdown",
   "id": "e1192ed1-4f6f-4ae3-b21d-9cc412a730a7",
   "metadata": {},
   "source": [
    "Outliers are data points that significantly deviate from the rest of the dataset.\n",
    "They can have a notable impact on both measures of central tendency (mean, median, mode) and measures of dispersion (range, variance, standard deviation). \n",
    "Outliers can skew these measures and lead to a misrepresentation of the data's characteristics."
   ]
  },
  {
   "cell_type": "code",
   "execution_count": 12,
   "id": "426bf6e2-3826-4337-afe3-3f8a9342c4f7",
   "metadata": {},
   "outputs": [
    {
     "name": "stdout",
     "output_type": "stream",
     "text": [
      "mean 3\n",
      "median 3\n",
      "standar deviation 1.5811388300841898\n"
     ]
    }
   ],
   "source": [
    "import statistics\n",
    "\n",
    "data = [1,2,3,4,5]\n",
    "\n",
    "print(\"mean\",statistics.mean(data))\n",
    "print(\"median\",statistics.median(data))\n",
    "print(\"standar deviation\",statistics.stdev(data))\n"
   ]
  },
  {
   "cell_type": "code",
   "execution_count": 15,
   "id": "d2837dea-5141-405c-8af8-a22a20d02cba",
   "metadata": {},
   "outputs": [
    {
     "name": "stdout",
     "output_type": "stream",
     "text": [
      "mean 8335.833333333334\n",
      "median 3.5\n",
      "standar deviation 20411.189827314494\n"
     ]
    }
   ],
   "source": [
    "data_with_outlier = [1,2,3,4,5, 50000]\n",
    "\n",
    "print(\"mean\",statistics.mean(data_with_outlier))\n",
    "print(\"median\",statistics.median(data_with_outlier))\n",
    "print(\"standar deviation\",statistics.stdev(data_with_outlier))\n"
   ]
  },
  {
   "cell_type": "raw",
   "id": "712375d2-ae32-4a8d-b269-ece726a71bb6",
   "metadata": {},
   "source": [
    "here you can see mean and standar deviation change so much and meadina change little bit compare to mean and std."
   ]
  },
  {
   "cell_type": "code",
   "execution_count": null,
   "id": "e86902c1-6183-4a8c-83f1-3c3869c663f2",
   "metadata": {},
   "outputs": [],
   "source": []
  }
 ],
 "metadata": {
  "kernelspec": {
   "display_name": "Python 3 (ipykernel)",
   "language": "python",
   "name": "python3"
  },
  "language_info": {
   "codemirror_mode": {
    "name": "ipython",
    "version": 3
   },
   "file_extension": ".py",
   "mimetype": "text/x-python",
   "name": "python",
   "nbconvert_exporter": "python",
   "pygments_lexer": "ipython3",
   "version": "3.10.8"
  }
 },
 "nbformat": 4,
 "nbformat_minor": 5
}
